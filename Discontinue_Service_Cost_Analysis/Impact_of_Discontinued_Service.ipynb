{
 "cells": [
  {
   "cell_type": "markdown",
   "id": "751a135b",
   "metadata": {},
   "source": [
    "# Travel Cost Analysis for Discontinue Silver Line Library Segment Service Scenario\n",
    "### This analysis consists of two parts: \n",
    "1. Total additional travel cost added from the lost ridership. \n",
    "2. Travel cost increase for commuting riders. "
   ]
  },
  {
   "cell_type": "code",
   "execution_count": 49,
   "id": "ab6eb7c0",
   "metadata": {},
   "outputs": [],
   "source": [
    "import pandas as pd \n",
    "import numpy as np "
   ]
  },
  {
   "cell_type": "code",
   "execution_count": 50,
   "id": "0166f8b5",
   "metadata": {},
   "outputs": [
    {
     "data": {
      "text/html": [
       "<div>\n",
       "<style scoped>\n",
       "    .dataframe tbody tr th:only-of-type {\n",
       "        vertical-align: middle;\n",
       "    }\n",
       "\n",
       "    .dataframe tbody tr th {\n",
       "        vertical-align: top;\n",
       "    }\n",
       "\n",
       "    .dataframe thead th {\n",
       "        text-align: right;\n",
       "    }\n",
       "</style>\n",
       "<table border=\"1\" class=\"dataframe\">\n",
       "  <thead>\n",
       "    <tr style=\"text-align: right;\">\n",
       "      <th></th>\n",
       "      <th>OBJECTID</th>\n",
       "      <th>Join_Count</th>\n",
       "      <th>TARGET_FID</th>\n",
       "      <th>JOIN_FID</th>\n",
       "      <th>FID_1</th>\n",
       "      <th>stop_id</th>\n",
       "      <th>stop_code</th>\n",
       "      <th>stop_name</th>\n",
       "      <th>stop_lat</th>\n",
       "      <th>stop_lon</th>\n",
       "      <th>...</th>\n",
       "      <th>transportation_X6059_X</th>\n",
       "      <th>transportation_X6060_X</th>\n",
       "      <th>transportation_X6061_X</th>\n",
       "      <th>transportation_X6062_X</th>\n",
       "      <th>transportation_X6063_X</th>\n",
       "      <th>Shape_Length</th>\n",
       "      <th>Shape_Area</th>\n",
       "      <th>NEAR_FID</th>\n",
       "      <th>Dist_Downtown</th>\n",
       "      <th>Dis_to_Washington_Jxn</th>\n",
       "    </tr>\n",
       "  </thead>\n",
       "  <tbody>\n",
       "    <tr>\n",
       "      <th>0</th>\n",
       "      <td>1</td>\n",
       "      <td>1</td>\n",
       "      <td>1</td>\n",
       "      <td>21</td>\n",
       "      <td>5073</td>\n",
       "      <td>X14476</td>\n",
       "      <td>99935</td>\n",
       "      <td>SOUTH HILLS JUNCTION STATION</td>\n",
       "      <td>40.420810</td>\n",
       "      <td>-80.006928</td>\n",
       "      <td>...</td>\n",
       "      <td>1949</td>\n",
       "      <td>125</td>\n",
       "      <td>743</td>\n",
       "      <td>1049</td>\n",
       "      <td>32</td>\n",
       "      <td>1869.324997</td>\n",
       "      <td>159367.861801</td>\n",
       "      <td>1</td>\n",
       "      <td>1.275158</td>\n",
       "      <td>4.841573</td>\n",
       "    </tr>\n",
       "    <tr>\n",
       "      <th>1</th>\n",
       "      <td>2</td>\n",
       "      <td>1</td>\n",
       "      <td>3</td>\n",
       "      <td>16</td>\n",
       "      <td>3350</td>\n",
       "      <td>P70025</td>\n",
       "      <td>99991</td>\n",
       "      <td>GATEWAY STATION</td>\n",
       "      <td>40.441705</td>\n",
       "      <td>-80.004104</td>\n",
       "      <td>...</td>\n",
       "      <td>0</td>\n",
       "      <td>0</td>\n",
       "      <td>0</td>\n",
       "      <td>0</td>\n",
       "      <td>0</td>\n",
       "      <td>674.927374</td>\n",
       "      <td>28809.544908</td>\n",
       "      <td>1</td>\n",
       "      <td>0.416277</td>\n",
       "      <td>6.285285</td>\n",
       "    </tr>\n",
       "    <tr>\n",
       "      <th>2</th>\n",
       "      <td>3</td>\n",
       "      <td>1</td>\n",
       "      <td>3</td>\n",
       "      <td>17</td>\n",
       "      <td>3367</td>\n",
       "      <td>P70021</td>\n",
       "      <td>99992</td>\n",
       "      <td>WOOD STREET STATION</td>\n",
       "      <td>40.442338</td>\n",
       "      <td>-79.999525</td>\n",
       "      <td>...</td>\n",
       "      <td>0</td>\n",
       "      <td>0</td>\n",
       "      <td>0</td>\n",
       "      <td>0</td>\n",
       "      <td>0</td>\n",
       "      <td>674.927374</td>\n",
       "      <td>28809.544908</td>\n",
       "      <td>1</td>\n",
       "      <td>0.416277</td>\n",
       "      <td>6.285285</td>\n",
       "    </tr>\n",
       "    <tr>\n",
       "      <th>3</th>\n",
       "      <td>4</td>\n",
       "      <td>1</td>\n",
       "      <td>5</td>\n",
       "      <td>15</td>\n",
       "      <td>1564</td>\n",
       "      <td>N71210</td>\n",
       "      <td>99999</td>\n",
       "      <td>NORTH SIDE STATION</td>\n",
       "      <td>40.448092</td>\n",
       "      <td>-80.010515</td>\n",
       "      <td>...</td>\n",
       "      <td>0</td>\n",
       "      <td>0</td>\n",
       "      <td>0</td>\n",
       "      <td>0</td>\n",
       "      <td>0</td>\n",
       "      <td>1820.897991</td>\n",
       "      <td>151792.908828</td>\n",
       "      <td>1</td>\n",
       "      <td>0.890242</td>\n",
       "      <td>6.532254</td>\n",
       "    </tr>\n",
       "    <tr>\n",
       "      <th>4</th>\n",
       "      <td>5</td>\n",
       "      <td>1</td>\n",
       "      <td>8</td>\n",
       "      <td>12</td>\n",
       "      <td>1350</td>\n",
       "      <td>X70001</td>\n",
       "      <td>99918</td>\n",
       "      <td>BOGGS STATION</td>\n",
       "      <td>40.416702</td>\n",
       "      <td>-80.010290</td>\n",
       "      <td>...</td>\n",
       "      <td>0</td>\n",
       "      <td>0</td>\n",
       "      <td>0</td>\n",
       "      <td>0</td>\n",
       "      <td>0</td>\n",
       "      <td>123.812403</td>\n",
       "      <td>589.499413</td>\n",
       "      <td>1</td>\n",
       "      <td>1.902860</td>\n",
       "      <td>4.331867</td>\n",
       "    </tr>\n",
       "  </tbody>\n",
       "</table>\n",
       "<p>5 rows × 104 columns</p>\n",
       "</div>"
      ],
      "text/plain": [
       "   OBJECTID  Join_Count  TARGET_FID  JOIN_FID  FID_1 stop_id  stop_code  \\\n",
       "0         1           1           1        21   5073  X14476      99935   \n",
       "1         2           1           3        16   3350  P70025      99991   \n",
       "2         3           1           3        17   3367  P70021      99992   \n",
       "3         4           1           5        15   1564  N71210      99999   \n",
       "4         5           1           8        12   1350  X70001      99918   \n",
       "\n",
       "                      stop_name   stop_lat   stop_lon  ...  \\\n",
       "0  SOUTH HILLS JUNCTION STATION  40.420810 -80.006928  ...   \n",
       "1               GATEWAY STATION  40.441705 -80.004104  ...   \n",
       "2           WOOD STREET STATION  40.442338 -79.999525  ...   \n",
       "3            NORTH SIDE STATION  40.448092 -80.010515  ...   \n",
       "4                 BOGGS STATION  40.416702 -80.010290  ...   \n",
       "\n",
       "  transportation_X6059_X  transportation_X6060_X transportation_X6061_X  \\\n",
       "0                   1949                     125                    743   \n",
       "1                      0                       0                      0   \n",
       "2                      0                       0                      0   \n",
       "3                      0                       0                      0   \n",
       "4                      0                       0                      0   \n",
       "\n",
       "  transportation_X6062_X  transportation_X6063_X  Shape_Length     Shape_Area  \\\n",
       "0                   1049                      32   1869.324997  159367.861801   \n",
       "1                      0                       0    674.927374   28809.544908   \n",
       "2                      0                       0    674.927374   28809.544908   \n",
       "3                      0                       0   1820.897991  151792.908828   \n",
       "4                      0                       0    123.812403     589.499413   \n",
       "\n",
       "   NEAR_FID  Dist_Downtown  Dis_to_Washington_Jxn  \n",
       "0         1       1.275158               4.841573  \n",
       "1         1       0.416277               6.285285  \n",
       "2         1       0.416277               6.285285  \n",
       "3         1       0.890242               6.532254  \n",
       "4         1       1.902860               4.331867  \n",
       "\n",
       "[5 rows x 104 columns]"
      ]
     },
     "execution_count": 50,
     "metadata": {},
     "output_type": "execute_result"
    }
   ],
   "source": [
    "df = pd.read_excel('PRT_station_distance_updated.xlsx')\n",
    "df.head()"
   ]
  },
  {
   "cell_type": "code",
   "execution_count": 51,
   "id": "76f975f1",
   "metadata": {},
   "outputs": [
    {
     "data": {
      "text/plain": [
       "Index(['OBJECTID', 'Join_Count', 'TARGET_FID', 'JOIN_FID', 'FID_1', 'stop_id',\n",
       "       'stop_code', 'stop_name', 'stop_lat', 'stop_lon',\n",
       "       ...\n",
       "       'transportation_X6059_X', 'transportation_X6060_X',\n",
       "       'transportation_X6061_X', 'transportation_X6062_X',\n",
       "       'transportation_X6063_X', 'Shape_Length', 'Shape_Area', 'NEAR_FID',\n",
       "       'Dist_Downtown', 'Dis_to_Washington_Jxn'],\n",
       "      dtype='object', length=104)"
      ]
     },
     "execution_count": 51,
     "metadata": {},
     "output_type": "execute_result"
    }
   ],
   "source": [
    "df.columns"
   ]
  },
  {
   "cell_type": "code",
   "execution_count": 52,
   "id": "f95d9f04",
   "metadata": {},
   "outputs": [
    {
     "data": {
      "text/plain": [
       "array(['SANDY CREEK', 'BEAGLE', 'LIBRARY STATION', 'HILLCREST',\n",
       "       'SOUTH PARK ROAD', 'MESTA', 'MUNROE', 'LYTLE', 'KINGS SCHOOL ROAD',\n",
       "       'SARAH', 'WEST LIBRARY', 'LOGAN ROAD'], dtype=object)"
      ]
     },
     "execution_count": 52,
     "metadata": {},
     "output_type": "execute_result"
    }
   ],
   "source": [
    "df[df['routes'] == 'SLVR'].stop_name.unique()"
   ]
  },
  {
   "cell_type": "code",
   "execution_count": 63,
   "id": "87d7952c",
   "metadata": {},
   "outputs": [],
   "source": [
    "# Get the Library segment of the Silver Line\n",
    "df_slvr_section = df[df['routes'] == 'SLVR']"
   ]
  },
  {
   "cell_type": "markdown",
   "id": "7c598c59",
   "metadata": {},
   "source": [
    "### Section 1: Total additional travel cost added from the lost ridership"
   ]
  },
  {
   "cell_type": "markdown",
   "id": "527e2f4a",
   "metadata": {},
   "source": [
    "#### Calculate the average distance of riders who onboard at each station to Washington Junction and Downtown. This is calculated by taking the average of distances of all block groups within 0.25 miles radius of each station to Washington Jxn and Downtown. "
   ]
  },
  {
   "cell_type": "code",
   "execution_count": 62,
   "id": "62d26773",
   "metadata": {},
   "outputs": [
    {
     "data": {
      "text/html": [
       "<div>\n",
       "<style scoped>\n",
       "    .dataframe tbody tr th:only-of-type {\n",
       "        vertical-align: middle;\n",
       "    }\n",
       "\n",
       "    .dataframe tbody tr th {\n",
       "        vertical-align: top;\n",
       "    }\n",
       "\n",
       "    .dataframe thead th {\n",
       "        text-align: right;\n",
       "    }\n",
       "</style>\n",
       "<table border=\"1\" class=\"dataframe\">\n",
       "  <thead>\n",
       "    <tr style=\"text-align: right;\">\n",
       "      <th></th>\n",
       "      <th>stop_name</th>\n",
       "      <th>fy24_av_on</th>\n",
       "      <th>Dis_to_Washington_Jxn</th>\n",
       "      <th>Dist_Downtown</th>\n",
       "    </tr>\n",
       "  </thead>\n",
       "  <tbody>\n",
       "    <tr>\n",
       "      <th>0</th>\n",
       "      <td>BEAGLE</td>\n",
       "      <td>6</td>\n",
       "      <td>3.472539</td>\n",
       "      <td>9.609326</td>\n",
       "    </tr>\n",
       "    <tr>\n",
       "      <th>1</th>\n",
       "      <td>HILLCREST</td>\n",
       "      <td>4</td>\n",
       "      <td>0.459757</td>\n",
       "      <td>6.630640</td>\n",
       "    </tr>\n",
       "    <tr>\n",
       "      <th>2</th>\n",
       "      <td>KINGS SCHOOL ROAD</td>\n",
       "      <td>6</td>\n",
       "      <td>2.949032</td>\n",
       "      <td>9.102070</td>\n",
       "    </tr>\n",
       "    <tr>\n",
       "      <th>3</th>\n",
       "      <td>LIBRARY STATION</td>\n",
       "      <td>14</td>\n",
       "      <td>4.531391</td>\n",
       "      <td>10.567640</td>\n",
       "    </tr>\n",
       "    <tr>\n",
       "      <th>4</th>\n",
       "      <td>LOGAN ROAD</td>\n",
       "      <td>6</td>\n",
       "      <td>2.791382</td>\n",
       "      <td>8.949656</td>\n",
       "    </tr>\n",
       "    <tr>\n",
       "      <th>5</th>\n",
       "      <td>LYTLE</td>\n",
       "      <td>12</td>\n",
       "      <td>1.276811</td>\n",
       "      <td>7.453103</td>\n",
       "    </tr>\n",
       "    <tr>\n",
       "      <th>6</th>\n",
       "      <td>MESTA</td>\n",
       "      <td>11</td>\n",
       "      <td>1.477176</td>\n",
       "      <td>7.644447</td>\n",
       "    </tr>\n",
       "    <tr>\n",
       "      <th>7</th>\n",
       "      <td>MUNROE</td>\n",
       "      <td>6</td>\n",
       "      <td>2.020968</td>\n",
       "      <td>8.166384</td>\n",
       "    </tr>\n",
       "    <tr>\n",
       "      <th>8</th>\n",
       "      <td>SANDY CREEK</td>\n",
       "      <td>8</td>\n",
       "      <td>3.833473</td>\n",
       "      <td>9.954411</td>\n",
       "    </tr>\n",
       "    <tr>\n",
       "      <th>9</th>\n",
       "      <td>SARAH</td>\n",
       "      <td>4</td>\n",
       "      <td>2.433964</td>\n",
       "      <td>8.584222</td>\n",
       "    </tr>\n",
       "    <tr>\n",
       "      <th>10</th>\n",
       "      <td>SOUTH PARK ROAD</td>\n",
       "      <td>8</td>\n",
       "      <td>1.634668</td>\n",
       "      <td>7.797910</td>\n",
       "    </tr>\n",
       "    <tr>\n",
       "      <th>11</th>\n",
       "      <td>WEST LIBRARY</td>\n",
       "      <td>31</td>\n",
       "      <td>4.047155</td>\n",
       "      <td>10.161606</td>\n",
       "    </tr>\n",
       "  </tbody>\n",
       "</table>\n",
       "</div>"
      ],
      "text/plain": [
       "            stop_name  fy24_av_on  Dis_to_Washington_Jxn  Dist_Downtown\n",
       "0              BEAGLE           6               3.472539       9.609326\n",
       "1           HILLCREST           4               0.459757       6.630640\n",
       "2   KINGS SCHOOL ROAD           6               2.949032       9.102070\n",
       "3     LIBRARY STATION          14               4.531391      10.567640\n",
       "4          LOGAN ROAD           6               2.791382       8.949656\n",
       "5               LYTLE          12               1.276811       7.453103\n",
       "6               MESTA          11               1.477176       7.644447\n",
       "7              MUNROE           6               2.020968       8.166384\n",
       "8         SANDY CREEK           8               3.833473       9.954411\n",
       "9               SARAH           4               2.433964       8.584222\n",
       "10    SOUTH PARK ROAD           8               1.634668       7.797910\n",
       "11       WEST LIBRARY          31               4.047155      10.161606"
      ]
     },
     "execution_count": 62,
     "metadata": {},
     "output_type": "execute_result"
    }
   ],
   "source": [
    "station_distance = df_slvr_section.groupby(['stop_name', 'fy24_av_on'])[['Dis_to_Washington_Jxn', 'Dist_Downtown']].mean().reset_index()\n",
    "station_distance"
   ]
  },
  {
   "cell_type": "markdown",
   "id": "8deb69aa",
   "metadata": {},
   "source": [
    "*Caculate total miles travel of the existing riders of the Silver Line if they can only onboard on Washington Junction station*"
   ]
  },
  {
   "cell_type": "code",
   "execution_count": 65,
   "id": "cbb8a899",
   "metadata": {},
   "outputs": [
    {
     "data": {
      "text/plain": [
       "343.1954757180461"
      ]
     },
     "execution_count": 65,
     "metadata": {},
     "output_type": "execute_result"
    }
   ],
   "source": [
    "total_miles_travel_washingtonjxn = (station_distance['fy24_av_on'] * station_distance['Dis_to_Washington_Jxn']).sum()\n",
    "total_miles_travel_washingtonjxn"
   ]
  },
  {
   "cell_type": "markdown",
   "id": "4f7b36fa",
   "metadata": {},
   "source": [
    "Assume a average MPG of 33 miles (2022 Hyundai Tuscon); and a current national fuel price of $3.397; source: https://www.thezebra.com/resources/driving/fuel-cost-calculator/"
   ]
  },
  {
   "cell_type": "code",
   "execution_count": 66,
   "id": "ade7c4d2",
   "metadata": {},
   "outputs": [
    {
     "data": {
      "text/plain": [
       "35.32833427315765"
      ]
     },
     "execution_count": 66,
     "metadata": {},
     "output_type": "execute_result"
    }
   ],
   "source": [
    "# Calculate cost of gas \n",
    "total_gas_cost = total_miles_travel_washingtonjxn / 33 * 3.397\n",
    "total_gas_cost"
   ]
  },
  {
   "cell_type": "code",
   "execution_count": 67,
   "id": "430c55de",
   "metadata": {},
   "outputs": [
    {
     "data": {
      "text/plain": [
       "157.8699188303012"
      ]
     },
     "execution_count": 67,
     "metadata": {},
     "output_type": "execute_result"
    }
   ],
   "source": [
    "# Calculate cost of time\n",
    "avg_speed = 50\n",
    "travel_time = total_miles_travel_washingtonjxn / avg_speed\n",
    "total_travel_cost = travel_time * 23 # Assume hourly value of time is $23/hr --- average income of middle income family in PA\n",
    "total_travel_cost"
   ]
  },
  {
   "cell_type": "code",
   "execution_count": 68,
   "id": "f3680272",
   "metadata": {},
   "outputs": [
    {
     "data": {
      "text/plain": [
       "70517.36238276248"
      ]
     },
     "execution_count": 68,
     "metadata": {},
     "output_type": "execute_result"
    }
   ],
   "source": [
    "# Calculate yearly values\n",
    "total_gas_cost_year = total_gas_cost * 365\n",
    "total_travel_cost_year = total_travel_cost * 365\n",
    "total_cost_year_min = total_gas_cost_year + total_travel_cost_year\n",
    "total_cost_year_min"
   ]
  },
  {
   "cell_type": "markdown",
   "id": "13cba25c",
   "metadata": {},
   "source": [
    "*Conduct the same analysis but assume existing riders need to drive to Pittsburgh Downtown* "
   ]
  },
  {
   "cell_type": "code",
   "execution_count": 69,
   "id": "d4b6c1e0",
   "metadata": {},
   "outputs": [
    {
     "data": {
      "text/plain": [
       "1054.3255406082885"
      ]
     },
     "execution_count": 69,
     "metadata": {},
     "output_type": "execute_result"
    }
   ],
   "source": [
    "total_miles_travel_downtown = (station_distance['fy24_av_on'] * station_distance['Dist_Downtown']).sum()\n",
    "total_miles_travel_downtown"
   ]
  },
  {
   "cell_type": "code",
   "execution_count": 70,
   "id": "cec5b024",
   "metadata": {},
   "outputs": [
    {
     "data": {
      "text/plain": [
       "108.53163216504109"
      ]
     },
     "execution_count": 70,
     "metadata": {},
     "output_type": "execute_result"
    }
   ],
   "source": [
    "# Calculate cost of gas \n",
    "total_gas_cost = total_miles_travel_downtown / 33 * 3.397\n",
    "total_gas_cost"
   ]
  },
  {
   "cell_type": "code",
   "execution_count": 71,
   "id": "92e22d20",
   "metadata": {},
   "outputs": [
    {
     "data": {
      "text/plain": [
       "484.9897486798127"
      ]
     },
     "execution_count": 71,
     "metadata": {},
     "output_type": "execute_result"
    }
   ],
   "source": [
    "# Calculate cost of time\n",
    "avg_speed = 50\n",
    "travel_time = total_miles_travel_downtown / avg_speed\n",
    "total_travel_cost = travel_time * 23 # Assume hourly value of time is $23/hr --- average income of middle income family in PA\n",
    "total_travel_cost"
   ]
  },
  {
   "cell_type": "code",
   "execution_count": 72,
   "id": "d2f7a143",
   "metadata": {},
   "outputs": [
    {
     "data": {
      "text/plain": [
       "216635.30400837163"
      ]
     },
     "execution_count": 72,
     "metadata": {},
     "output_type": "execute_result"
    }
   ],
   "source": [
    "# Calculate yearly values\n",
    "total_gas_cost_year = total_gas_cost * 365\n",
    "total_travel_cost_year = total_travel_cost * 365\n",
    "total_cost_year_max = total_gas_cost_year + total_travel_cost_year\n",
    "total_cost_year_max"
   ]
  },
  {
   "cell_type": "markdown",
   "id": "bdd4779c",
   "metadata": {},
   "source": [
    "This means that given the existing daily ridership in the Library section of Silver Line, if the existing riders have to drive to Washington Junction to take the Blue Line, this will incur a daily additional miles travel of 343 miles, which is estimated to incur an annual cost from gas and time of $70,000; if the existing riders have to drive to Pittsburgh Downtown, this will incur a daily additional miles of travel of 1054 miles, which is estimated to incur an annual cost from gas and time of $0.2 million. <br>\n",
    "##### In conclusion, based on existing daily ridership in the Library segment of the Silver line, discontinuing service is estimated to incur an annual cost from gas and time between $70,000 and $200,000."
   ]
  },
  {
   "cell_type": "markdown",
   "id": "46375adc",
   "metadata": {},
   "source": [
    "### Section 2: Travel cost increase for commuting riders"
   ]
  },
  {
   "cell_type": "code",
   "execution_count": 73,
   "id": "20fef1f6",
   "metadata": {},
   "outputs": [
    {
     "data": {
      "text/html": [
       "<div>\n",
       "<style scoped>\n",
       "    .dataframe tbody tr th:only-of-type {\n",
       "        vertical-align: middle;\n",
       "    }\n",
       "\n",
       "    .dataframe tbody tr th {\n",
       "        vertical-align: top;\n",
       "    }\n",
       "\n",
       "    .dataframe thead th {\n",
       "        text-align: right;\n",
       "    }\n",
       "</style>\n",
       "<table border=\"1\" class=\"dataframe\">\n",
       "  <thead>\n",
       "    <tr style=\"text-align: right;\">\n",
       "      <th></th>\n",
       "      <th>OBJECTID</th>\n",
       "      <th>Join_Count</th>\n",
       "      <th>TARGET_FID</th>\n",
       "      <th>JOIN_FID</th>\n",
       "      <th>FID_1</th>\n",
       "      <th>stop_id</th>\n",
       "      <th>stop_code</th>\n",
       "      <th>stop_name</th>\n",
       "      <th>stop_lat</th>\n",
       "      <th>stop_lon</th>\n",
       "      <th>...</th>\n",
       "      <th>transportation_X6059_X</th>\n",
       "      <th>transportation_X6060_X</th>\n",
       "      <th>transportation_X6061_X</th>\n",
       "      <th>transportation_X6062_X</th>\n",
       "      <th>transportation_X6063_X</th>\n",
       "      <th>Shape_Length</th>\n",
       "      <th>Shape_Area</th>\n",
       "      <th>NEAR_FID</th>\n",
       "      <th>Dist_Downtown</th>\n",
       "      <th>Dis_to_Washington_Jxn</th>\n",
       "    </tr>\n",
       "  </thead>\n",
       "  <tbody>\n",
       "    <tr>\n",
       "      <th>19</th>\n",
       "      <td>20</td>\n",
       "      <td>1</td>\n",
       "      <td>27</td>\n",
       "      <td>26</td>\n",
       "      <td>5357</td>\n",
       "      <td>X14415</td>\n",
       "      <td>99945</td>\n",
       "      <td>SANDY CREEK</td>\n",
       "      <td>40.296477</td>\n",
       "      <td>-80.030387</td>\n",
       "      <td>...</td>\n",
       "      <td>2100</td>\n",
       "      <td>118</td>\n",
       "      <td>924</td>\n",
       "      <td>998</td>\n",
       "      <td>60</td>\n",
       "      <td>1800.245535</td>\n",
       "      <td>188615.997243</td>\n",
       "      <td>1</td>\n",
       "      <td>9.794397</td>\n",
       "      <td>3.669510</td>\n",
       "    </tr>\n",
       "    <tr>\n",
       "      <th>20</th>\n",
       "      <td>21</td>\n",
       "      <td>1</td>\n",
       "      <td>27</td>\n",
       "      <td>30</td>\n",
       "      <td>6373</td>\n",
       "      <td>X13810</td>\n",
       "      <td>99982</td>\n",
       "      <td>BEAGLE</td>\n",
       "      <td>40.300909</td>\n",
       "      <td>-80.031477</td>\n",
       "      <td>...</td>\n",
       "      <td>2100</td>\n",
       "      <td>118</td>\n",
       "      <td>924</td>\n",
       "      <td>998</td>\n",
       "      <td>60</td>\n",
       "      <td>1800.245535</td>\n",
       "      <td>188615.997243</td>\n",
       "      <td>1</td>\n",
       "      <td>9.794397</td>\n",
       "      <td>3.669510</td>\n",
       "    </tr>\n",
       "    <tr>\n",
       "      <th>25</th>\n",
       "      <td>26</td>\n",
       "      <td>1</td>\n",
       "      <td>39</td>\n",
       "      <td>20</td>\n",
       "      <td>5057</td>\n",
       "      <td>X14447</td>\n",
       "      <td>99942</td>\n",
       "      <td>LIBRARY STATION</td>\n",
       "      <td>40.287073</td>\n",
       "      <td>-80.020933</td>\n",
       "      <td>...</td>\n",
       "      <td>877</td>\n",
       "      <td>50</td>\n",
       "      <td>376</td>\n",
       "      <td>435</td>\n",
       "      <td>17</td>\n",
       "      <td>1047.200853</td>\n",
       "      <td>53847.860324</td>\n",
       "      <td>1</td>\n",
       "      <td>10.659559</td>\n",
       "      <td>4.588192</td>\n",
       "    </tr>\n",
       "    <tr>\n",
       "      <th>27</th>\n",
       "      <td>28</td>\n",
       "      <td>1</td>\n",
       "      <td>46</td>\n",
       "      <td>4</td>\n",
       "      <td>1009</td>\n",
       "      <td>X14125</td>\n",
       "      <td>99964</td>\n",
       "      <td>HILLCREST</td>\n",
       "      <td>40.345592</td>\n",
       "      <td>-80.028853</td>\n",
       "      <td>...</td>\n",
       "      <td>2727</td>\n",
       "      <td>130</td>\n",
       "      <td>1216</td>\n",
       "      <td>1314</td>\n",
       "      <td>67</td>\n",
       "      <td>5189.713338</td>\n",
       "      <td>659924.114758</td>\n",
       "      <td>1</td>\n",
       "      <td>6.300756</td>\n",
       "      <td>0.106842</td>\n",
       "    </tr>\n",
       "    <tr>\n",
       "      <th>36</th>\n",
       "      <td>37</td>\n",
       "      <td>1</td>\n",
       "      <td>62</td>\n",
       "      <td>25</td>\n",
       "      <td>5180</td>\n",
       "      <td>X14480</td>\n",
       "      <td>99933</td>\n",
       "      <td>SOUTH PARK ROAD</td>\n",
       "      <td>40.327821</td>\n",
       "      <td>-80.030536</td>\n",
       "      <td>...</td>\n",
       "      <td>2171</td>\n",
       "      <td>103</td>\n",
       "      <td>968</td>\n",
       "      <td>1046</td>\n",
       "      <td>53</td>\n",
       "      <td>2305.183825</td>\n",
       "      <td>287209.307543</td>\n",
       "      <td>1</td>\n",
       "      <td>7.814661</td>\n",
       "      <td>1.640925</td>\n",
       "    </tr>\n",
       "  </tbody>\n",
       "</table>\n",
       "<p>5 rows × 104 columns</p>\n",
       "</div>"
      ],
      "text/plain": [
       "    OBJECTID  Join_Count  TARGET_FID  JOIN_FID  FID_1 stop_id  stop_code  \\\n",
       "19        20           1          27        26   5357  X14415      99945   \n",
       "20        21           1          27        30   6373  X13810      99982   \n",
       "25        26           1          39        20   5057  X14447      99942   \n",
       "27        28           1          46         4   1009  X14125      99964   \n",
       "36        37           1          62        25   5180  X14480      99933   \n",
       "\n",
       "          stop_name   stop_lat   stop_lon  ... transportation_X6059_X  \\\n",
       "19      SANDY CREEK  40.296477 -80.030387  ...                   2100   \n",
       "20           BEAGLE  40.300909 -80.031477  ...                   2100   \n",
       "25  LIBRARY STATION  40.287073 -80.020933  ...                    877   \n",
       "27        HILLCREST  40.345592 -80.028853  ...                   2727   \n",
       "36  SOUTH PARK ROAD  40.327821 -80.030536  ...                   2171   \n",
       "\n",
       "    transportation_X6060_X transportation_X6061_X transportation_X6062_X  \\\n",
       "19                     118                    924                    998   \n",
       "20                     118                    924                    998   \n",
       "25                      50                    376                    435   \n",
       "27                     130                   1216                   1314   \n",
       "36                     103                    968                   1046   \n",
       "\n",
       "    transportation_X6063_X  Shape_Length     Shape_Area  NEAR_FID  \\\n",
       "19                      60   1800.245535  188615.997243         1   \n",
       "20                      60   1800.245535  188615.997243         1   \n",
       "25                      17   1047.200853   53847.860324         1   \n",
       "27                      67   5189.713338  659924.114758         1   \n",
       "36                      53   2305.183825  287209.307543         1   \n",
       "\n",
       "    Dist_Downtown  Dis_to_Washington_Jxn  \n",
       "19       9.794397               3.669510  \n",
       "20       9.794397               3.669510  \n",
       "25      10.659559               4.588192  \n",
       "27       6.300756               0.106842  \n",
       "36       7.814661               1.640925  \n",
       "\n",
       "[5 rows x 104 columns]"
      ]
     },
     "execution_count": 73,
     "metadata": {},
     "output_type": "execute_result"
    }
   ],
   "source": [
    "df_slvr_section.head()"
   ]
  },
  {
   "cell_type": "markdown",
   "id": "1fd9c64f",
   "metadata": {},
   "source": [
    "To calculate the average number of commuting riders at each station, I will use groupby and sum up the total number of commuters in the 2-miles radius of each station. "
   ]
  },
  {
   "cell_type": "code",
   "execution_count": 74,
   "id": "118b4f2f",
   "metadata": {},
   "outputs": [
    {
     "data": {
      "text/html": [
       "<div>\n",
       "<style scoped>\n",
       "    .dataframe tbody tr th:only-of-type {\n",
       "        vertical-align: middle;\n",
       "    }\n",
       "\n",
       "    .dataframe tbody tr th {\n",
       "        vertical-align: top;\n",
       "    }\n",
       "\n",
       "    .dataframe thead th {\n",
       "        text-align: right;\n",
       "    }\n",
       "</style>\n",
       "<table border=\"1\" class=\"dataframe\">\n",
       "  <thead>\n",
       "    <tr style=\"text-align: right;\">\n",
       "      <th></th>\n",
       "      <th>stop_name</th>\n",
       "      <th>commute_ACSSTRTCAR</th>\n",
       "      <th>commute_ACSSUBWAY</th>\n",
       "    </tr>\n",
       "  </thead>\n",
       "  <tbody>\n",
       "    <tr>\n",
       "      <th>0</th>\n",
       "      <td>BEAGLE</td>\n",
       "      <td>17</td>\n",
       "      <td>16</td>\n",
       "    </tr>\n",
       "    <tr>\n",
       "      <th>1</th>\n",
       "      <td>HILLCREST</td>\n",
       "      <td>46</td>\n",
       "      <td>17</td>\n",
       "    </tr>\n",
       "    <tr>\n",
       "      <th>2</th>\n",
       "      <td>KINGS SCHOOL ROAD</td>\n",
       "      <td>31</td>\n",
       "      <td>15</td>\n",
       "    </tr>\n",
       "    <tr>\n",
       "      <th>3</th>\n",
       "      <td>LIBRARY STATION</td>\n",
       "      <td>25</td>\n",
       "      <td>0</td>\n",
       "    </tr>\n",
       "    <tr>\n",
       "      <th>4</th>\n",
       "      <td>LOGAN ROAD</td>\n",
       "      <td>16</td>\n",
       "      <td>11</td>\n",
       "    </tr>\n",
       "    <tr>\n",
       "      <th>5</th>\n",
       "      <td>LYTLE</td>\n",
       "      <td>9</td>\n",
       "      <td>38</td>\n",
       "    </tr>\n",
       "    <tr>\n",
       "      <th>6</th>\n",
       "      <td>MESTA</td>\n",
       "      <td>2</td>\n",
       "      <td>29</td>\n",
       "    </tr>\n",
       "    <tr>\n",
       "      <th>7</th>\n",
       "      <td>MUNROE</td>\n",
       "      <td>5</td>\n",
       "      <td>25</td>\n",
       "    </tr>\n",
       "    <tr>\n",
       "      <th>8</th>\n",
       "      <td>SANDY CREEK</td>\n",
       "      <td>7</td>\n",
       "      <td>10</td>\n",
       "    </tr>\n",
       "    <tr>\n",
       "      <th>9</th>\n",
       "      <td>SARAH</td>\n",
       "      <td>16</td>\n",
       "      <td>14</td>\n",
       "    </tr>\n",
       "    <tr>\n",
       "      <th>10</th>\n",
       "      <td>SOUTH PARK ROAD</td>\n",
       "      <td>0</td>\n",
       "      <td>32</td>\n",
       "    </tr>\n",
       "    <tr>\n",
       "      <th>11</th>\n",
       "      <td>WEST LIBRARY</td>\n",
       "      <td>16</td>\n",
       "      <td>10</td>\n",
       "    </tr>\n",
       "  </tbody>\n",
       "</table>\n",
       "</div>"
      ],
      "text/plain": [
       "            stop_name  commute_ACSSTRTCAR  commute_ACSSUBWAY\n",
       "0              BEAGLE                  17                 16\n",
       "1           HILLCREST                  46                 17\n",
       "2   KINGS SCHOOL ROAD                  31                 15\n",
       "3     LIBRARY STATION                  25                  0\n",
       "4          LOGAN ROAD                  16                 11\n",
       "5               LYTLE                   9                 38\n",
       "6               MESTA                   2                 29\n",
       "7              MUNROE                   5                 25\n",
       "8         SANDY CREEK                   7                 10\n",
       "9               SARAH                  16                 14\n",
       "10    SOUTH PARK ROAD                   0                 32\n",
       "11       WEST LIBRARY                  16                 10"
      ]
     },
     "execution_count": 74,
     "metadata": {},
     "output_type": "execute_result"
    }
   ],
   "source": [
    "commuter_count = df_slvr_section.groupby(by = 'stop_name', as_index=True)[['commute_ACSSTRTCAR', 'commute_ACSSUBWAY']].sum().reset_index()\n",
    "commuter_count"
   ]
  },
  {
   "cell_type": "code",
   "execution_count": 75,
   "id": "863fe544",
   "metadata": {},
   "outputs": [
    {
     "data": {
      "text/html": [
       "<div>\n",
       "<style scoped>\n",
       "    .dataframe tbody tr th:only-of-type {\n",
       "        vertical-align: middle;\n",
       "    }\n",
       "\n",
       "    .dataframe tbody tr th {\n",
       "        vertical-align: top;\n",
       "    }\n",
       "\n",
       "    .dataframe thead th {\n",
       "        text-align: right;\n",
       "    }\n",
       "</style>\n",
       "<table border=\"1\" class=\"dataframe\">\n",
       "  <thead>\n",
       "    <tr style=\"text-align: right;\">\n",
       "      <th></th>\n",
       "      <th>stop_name</th>\n",
       "      <th>commute_ACSSTRTCAR</th>\n",
       "      <th>commute_ACSSUBWAY</th>\n",
       "      <th>total_strtcar_subway</th>\n",
       "    </tr>\n",
       "  </thead>\n",
       "  <tbody>\n",
       "    <tr>\n",
       "      <th>0</th>\n",
       "      <td>BEAGLE</td>\n",
       "      <td>17</td>\n",
       "      <td>16</td>\n",
       "      <td>33</td>\n",
       "    </tr>\n",
       "    <tr>\n",
       "      <th>1</th>\n",
       "      <td>HILLCREST</td>\n",
       "      <td>46</td>\n",
       "      <td>17</td>\n",
       "      <td>63</td>\n",
       "    </tr>\n",
       "    <tr>\n",
       "      <th>2</th>\n",
       "      <td>KINGS SCHOOL ROAD</td>\n",
       "      <td>31</td>\n",
       "      <td>15</td>\n",
       "      <td>46</td>\n",
       "    </tr>\n",
       "    <tr>\n",
       "      <th>3</th>\n",
       "      <td>LIBRARY STATION</td>\n",
       "      <td>25</td>\n",
       "      <td>0</td>\n",
       "      <td>25</td>\n",
       "    </tr>\n",
       "    <tr>\n",
       "      <th>4</th>\n",
       "      <td>LOGAN ROAD</td>\n",
       "      <td>16</td>\n",
       "      <td>11</td>\n",
       "      <td>27</td>\n",
       "    </tr>\n",
       "    <tr>\n",
       "      <th>5</th>\n",
       "      <td>LYTLE</td>\n",
       "      <td>9</td>\n",
       "      <td>38</td>\n",
       "      <td>47</td>\n",
       "    </tr>\n",
       "    <tr>\n",
       "      <th>6</th>\n",
       "      <td>MESTA</td>\n",
       "      <td>2</td>\n",
       "      <td>29</td>\n",
       "      <td>31</td>\n",
       "    </tr>\n",
       "    <tr>\n",
       "      <th>7</th>\n",
       "      <td>MUNROE</td>\n",
       "      <td>5</td>\n",
       "      <td>25</td>\n",
       "      <td>30</td>\n",
       "    </tr>\n",
       "    <tr>\n",
       "      <th>8</th>\n",
       "      <td>SANDY CREEK</td>\n",
       "      <td>7</td>\n",
       "      <td>10</td>\n",
       "      <td>17</td>\n",
       "    </tr>\n",
       "    <tr>\n",
       "      <th>9</th>\n",
       "      <td>SARAH</td>\n",
       "      <td>16</td>\n",
       "      <td>14</td>\n",
       "      <td>30</td>\n",
       "    </tr>\n",
       "    <tr>\n",
       "      <th>10</th>\n",
       "      <td>SOUTH PARK ROAD</td>\n",
       "      <td>0</td>\n",
       "      <td>32</td>\n",
       "      <td>32</td>\n",
       "    </tr>\n",
       "    <tr>\n",
       "      <th>11</th>\n",
       "      <td>WEST LIBRARY</td>\n",
       "      <td>16</td>\n",
       "      <td>10</td>\n",
       "      <td>26</td>\n",
       "    </tr>\n",
       "  </tbody>\n",
       "</table>\n",
       "</div>"
      ],
      "text/plain": [
       "            stop_name  commute_ACSSTRTCAR  commute_ACSSUBWAY  \\\n",
       "0              BEAGLE                  17                 16   \n",
       "1           HILLCREST                  46                 17   \n",
       "2   KINGS SCHOOL ROAD                  31                 15   \n",
       "3     LIBRARY STATION                  25                  0   \n",
       "4          LOGAN ROAD                  16                 11   \n",
       "5               LYTLE                   9                 38   \n",
       "6               MESTA                   2                 29   \n",
       "7              MUNROE                   5                 25   \n",
       "8         SANDY CREEK                   7                 10   \n",
       "9               SARAH                  16                 14   \n",
       "10    SOUTH PARK ROAD                   0                 32   \n",
       "11       WEST LIBRARY                  16                 10   \n",
       "\n",
       "    total_strtcar_subway  \n",
       "0                     33  \n",
       "1                     63  \n",
       "2                     46  \n",
       "3                     25  \n",
       "4                     27  \n",
       "5                     47  \n",
       "6                     31  \n",
       "7                     30  \n",
       "8                     17  \n",
       "9                     30  \n",
       "10                    32  \n",
       "11                    26  "
      ]
     },
     "execution_count": 75,
     "metadata": {},
     "output_type": "execute_result"
    }
   ],
   "source": [
    "commuter_count['total_strtcar_subway'] = commuter_count['commute_ACSSTRTCAR']+ commuter_count['commute_ACSSUBWAY']\n",
    "commuter_count"
   ]
  },
  {
   "cell_type": "markdown",
   "id": "a80a66c0",
   "metadata": {},
   "source": [
    "Small data integrity check--Make sure each station is mapped to a census block group once."
   ]
  },
  {
   "cell_type": "code",
   "execution_count": 39,
   "id": "1f1e6cbc",
   "metadata": {},
   "outputs": [
    {
     "data": {
      "text/plain": [
       "False"
      ]
     },
     "execution_count": 39,
     "metadata": {},
     "output_type": "execute_result"
    }
   ],
   "source": [
    "df_slvr_section[df_slvr_section['stop_name']=='WEST LIBRARY'][['TFID']].duplicated().any()"
   ]
  },
  {
   "cell_type": "code",
   "execution_count": 78,
   "id": "39e14e2a",
   "metadata": {},
   "outputs": [
    {
     "data": {
      "text/html": [
       "<div>\n",
       "<style scoped>\n",
       "    .dataframe tbody tr th:only-of-type {\n",
       "        vertical-align: middle;\n",
       "    }\n",
       "\n",
       "    .dataframe tbody tr th {\n",
       "        vertical-align: top;\n",
       "    }\n",
       "\n",
       "    .dataframe thead th {\n",
       "        text-align: right;\n",
       "    }\n",
       "</style>\n",
       "<table border=\"1\" class=\"dataframe\">\n",
       "  <thead>\n",
       "    <tr style=\"text-align: right;\">\n",
       "      <th></th>\n",
       "      <th>stop_name</th>\n",
       "      <th>commute_ACSSTRTCAR</th>\n",
       "      <th>commute_ACSSUBWAY</th>\n",
       "      <th>total_strtcar_subway</th>\n",
       "      <th>fy24_av_on</th>\n",
       "      <th>Dis_to_Washington_Jxn</th>\n",
       "      <th>Dist_Downtown</th>\n",
       "    </tr>\n",
       "  </thead>\n",
       "  <tbody>\n",
       "    <tr>\n",
       "      <th>0</th>\n",
       "      <td>BEAGLE</td>\n",
       "      <td>17</td>\n",
       "      <td>16</td>\n",
       "      <td>33</td>\n",
       "      <td>6</td>\n",
       "      <td>3.472539</td>\n",
       "      <td>9.609326</td>\n",
       "    </tr>\n",
       "    <tr>\n",
       "      <th>1</th>\n",
       "      <td>HILLCREST</td>\n",
       "      <td>46</td>\n",
       "      <td>17</td>\n",
       "      <td>63</td>\n",
       "      <td>4</td>\n",
       "      <td>0.459757</td>\n",
       "      <td>6.630640</td>\n",
       "    </tr>\n",
       "    <tr>\n",
       "      <th>2</th>\n",
       "      <td>KINGS SCHOOL ROAD</td>\n",
       "      <td>31</td>\n",
       "      <td>15</td>\n",
       "      <td>46</td>\n",
       "      <td>6</td>\n",
       "      <td>2.949032</td>\n",
       "      <td>9.102070</td>\n",
       "    </tr>\n",
       "    <tr>\n",
       "      <th>3</th>\n",
       "      <td>LIBRARY STATION</td>\n",
       "      <td>25</td>\n",
       "      <td>0</td>\n",
       "      <td>25</td>\n",
       "      <td>14</td>\n",
       "      <td>4.531391</td>\n",
       "      <td>10.567640</td>\n",
       "    </tr>\n",
       "    <tr>\n",
       "      <th>4</th>\n",
       "      <td>LOGAN ROAD</td>\n",
       "      <td>16</td>\n",
       "      <td>11</td>\n",
       "      <td>27</td>\n",
       "      <td>6</td>\n",
       "      <td>2.791382</td>\n",
       "      <td>8.949656</td>\n",
       "    </tr>\n",
       "    <tr>\n",
       "      <th>5</th>\n",
       "      <td>LYTLE</td>\n",
       "      <td>9</td>\n",
       "      <td>38</td>\n",
       "      <td>47</td>\n",
       "      <td>12</td>\n",
       "      <td>1.276811</td>\n",
       "      <td>7.453103</td>\n",
       "    </tr>\n",
       "    <tr>\n",
       "      <th>6</th>\n",
       "      <td>MESTA</td>\n",
       "      <td>2</td>\n",
       "      <td>29</td>\n",
       "      <td>31</td>\n",
       "      <td>11</td>\n",
       "      <td>1.477176</td>\n",
       "      <td>7.644447</td>\n",
       "    </tr>\n",
       "    <tr>\n",
       "      <th>7</th>\n",
       "      <td>MUNROE</td>\n",
       "      <td>5</td>\n",
       "      <td>25</td>\n",
       "      <td>30</td>\n",
       "      <td>6</td>\n",
       "      <td>2.020968</td>\n",
       "      <td>8.166384</td>\n",
       "    </tr>\n",
       "    <tr>\n",
       "      <th>8</th>\n",
       "      <td>SANDY CREEK</td>\n",
       "      <td>7</td>\n",
       "      <td>10</td>\n",
       "      <td>17</td>\n",
       "      <td>8</td>\n",
       "      <td>3.833473</td>\n",
       "      <td>9.954411</td>\n",
       "    </tr>\n",
       "    <tr>\n",
       "      <th>9</th>\n",
       "      <td>SARAH</td>\n",
       "      <td>16</td>\n",
       "      <td>14</td>\n",
       "      <td>30</td>\n",
       "      <td>4</td>\n",
       "      <td>2.433964</td>\n",
       "      <td>8.584222</td>\n",
       "    </tr>\n",
       "    <tr>\n",
       "      <th>10</th>\n",
       "      <td>SOUTH PARK ROAD</td>\n",
       "      <td>0</td>\n",
       "      <td>32</td>\n",
       "      <td>32</td>\n",
       "      <td>8</td>\n",
       "      <td>1.634668</td>\n",
       "      <td>7.797910</td>\n",
       "    </tr>\n",
       "    <tr>\n",
       "      <th>11</th>\n",
       "      <td>WEST LIBRARY</td>\n",
       "      <td>16</td>\n",
       "      <td>10</td>\n",
       "      <td>26</td>\n",
       "      <td>31</td>\n",
       "      <td>4.047155</td>\n",
       "      <td>10.161606</td>\n",
       "    </tr>\n",
       "  </tbody>\n",
       "</table>\n",
       "</div>"
      ],
      "text/plain": [
       "            stop_name  commute_ACSSTRTCAR  commute_ACSSUBWAY  \\\n",
       "0              BEAGLE                  17                 16   \n",
       "1           HILLCREST                  46                 17   \n",
       "2   KINGS SCHOOL ROAD                  31                 15   \n",
       "3     LIBRARY STATION                  25                  0   \n",
       "4          LOGAN ROAD                  16                 11   \n",
       "5               LYTLE                   9                 38   \n",
       "6               MESTA                   2                 29   \n",
       "7              MUNROE                   5                 25   \n",
       "8         SANDY CREEK                   7                 10   \n",
       "9               SARAH                  16                 14   \n",
       "10    SOUTH PARK ROAD                   0                 32   \n",
       "11       WEST LIBRARY                  16                 10   \n",
       "\n",
       "    total_strtcar_subway  fy24_av_on  Dis_to_Washington_Jxn  Dist_Downtown  \n",
       "0                     33           6               3.472539       9.609326  \n",
       "1                     63           4               0.459757       6.630640  \n",
       "2                     46           6               2.949032       9.102070  \n",
       "3                     25          14               4.531391      10.567640  \n",
       "4                     27           6               2.791382       8.949656  \n",
       "5                     47          12               1.276811       7.453103  \n",
       "6                     31          11               1.477176       7.644447  \n",
       "7                     30           6               2.020968       8.166384  \n",
       "8                     17           8               3.833473       9.954411  \n",
       "9                     30           4               2.433964       8.584222  \n",
       "10                    32           8               1.634668       7.797910  \n",
       "11                    26          31               4.047155      10.161606  "
      ]
     },
     "execution_count": 78,
     "metadata": {},
     "output_type": "execute_result"
    }
   ],
   "source": [
    "# Merge commuter_count and station_distance tables\n",
    "merged = commuter_count.merge(right = station_distance, on = 'stop_name', how = 'outer')\n",
    "merged"
   ]
  },
  {
   "cell_type": "code",
   "execution_count": 79,
   "id": "a7d40b36",
   "metadata": {},
   "outputs": [
    {
     "data": {
      "text/plain": [
       "407"
      ]
     },
     "execution_count": 79,
     "metadata": {},
     "output_type": "execute_result"
    }
   ],
   "source": [
    "# Total commuters impacted\n",
    "merged['total_strtcar_subway'].sum()"
   ]
  },
  {
   "cell_type": "markdown",
   "id": "b88769ec",
   "metadata": {},
   "source": [
    "Calculate additional cost for those commuters; Assume they all have to go to Washington Junction to take Blue Line"
   ]
  },
  {
   "cell_type": "code",
   "execution_count": 80,
   "id": "679fd252",
   "metadata": {},
   "outputs": [],
   "source": [
    "merged['daily_dist_washington'] = merged['Dis_to_Washington_Jxn'] * 2"
   ]
  },
  {
   "cell_type": "code",
   "execution_count": null,
   "id": "d3f20926",
   "metadata": {},
   "outputs": [
    {
     "name": "stdout",
     "output_type": "stream",
     "text": [
      "The range of daily gas cost from the travel is between:  0.09465428411386079  and  0.9329172910981819\n"
     ]
    }
   ],
   "source": [
    "# Calculate cost of gas (range)\n",
    "daily_gas_cost_max = merged['daily_dist_washington'].max() / 33 * 3.397\n",
    "daily_gas_cost_min = merged['daily_dist_washington'].min() / 33 * 3.397\n",
    "\n",
    "print('The range of daily gas cost from the travel is between: ', daily_gas_cost_min, ' and ', daily_gas_cost_max)"
   ]
  },
  {
   "cell_type": "code",
   "execution_count": 82,
   "id": "307a98c8",
   "metadata": {},
   "outputs": [
    {
     "name": "stdout",
     "output_type": "stream",
     "text": [
      "The range of daily cost of time from the travel is between:  0.0183902936459076  and  0.1812556408963203\n"
     ]
    }
   ],
   "source": [
    "# Calculate cost of time\n",
    "avg_speed = 50\n",
    "daily_travel_time_max = merged['daily_dist_washington'].max() / avg_speed\n",
    "daily_travel_time_min = merged['daily_dist_washington'].min() / avg_speed\n",
    "\n",
    "daily_travel_cost_max = daily_travel_time_max * 23 # Assume hourly value of time is $23/hr --- average income of middle income family in PA\n",
    "daily_travel_cost_min = daily_travel_time_min * 23\n",
    "\n",
    "print('The range of daily cost of time from the travel is between: ', daily_travel_time_min, ' and ', daily_travel_time_max)"
   ]
  },
  {
   "cell_type": "code",
   "execution_count": 84,
   "id": "79db3b4e",
   "metadata": {},
   "outputs": [
    {
     "name": "stdout",
     "output_type": "stream",
     "text": [
      "The range of monthly cost of travel if commuters have to drive to Washington Junction Station is between:  10.870251797364446  and  107.13773766598452\n"
     ]
    }
   ],
   "source": [
    "# Calculate total cost (if drive)\n",
    "daily_cost_drive_min = daily_gas_cost_min + daily_travel_cost_min\n",
    "daily_cost_drive_max = daily_gas_cost_max + daily_travel_cost_max\n",
    "# Assume 21 working days in a month\n",
    "monthly_cost_drive_min = daily_cost_drive_min * 21\n",
    "monthly_cost_drive_max = daily_cost_drive_max * 21\n",
    "print('The range of monthly cost of travel if commuters have to drive to Washington Junction Station is between: ', monthly_cost_drive_min, ' and ', monthly_cost_drive_max)\n"
   ]
  },
  {
   "cell_type": "code",
   "execution_count": 85,
   "id": "8ade314a",
   "metadata": {},
   "outputs": [
    {
     "data": {
      "text/plain": [
       "9.062782044816014"
      ]
     },
     "execution_count": 85,
     "metadata": {},
     "output_type": "execute_result"
    }
   ],
   "source": [
    "merged['daily_dist_washington'].max()"
   ]
  },
  {
   "cell_type": "code",
   "execution_count": 87,
   "id": "8c392788",
   "metadata": {},
   "outputs": [
    {
     "data": {
      "text/plain": [
       "0.91951468229538"
      ]
     },
     "execution_count": 87,
     "metadata": {},
     "output_type": "execute_result"
    }
   ],
   "source": [
    "merged['daily_dist_washington'].min()"
   ]
  },
  {
   "cell_type": "markdown",
   "id": "6ceed4bf",
   "metadata": {},
   "source": [
    "Using ChatGPT, the range of travel distance, if traveled by UBer, is estimated to cost between $7~$27 per day, and therefore $147~$567 per month. "
   ]
  },
  {
   "cell_type": "code",
   "execution_count": null,
   "id": "363c300f",
   "metadata": {},
   "outputs": [],
   "source": []
  }
 ],
 "metadata": {
  "kernelspec": {
   "display_name": "base",
   "language": "python",
   "name": "python3"
  },
  "language_info": {
   "codemirror_mode": {
    "name": "ipython",
    "version": 3
   },
   "file_extension": ".py",
   "mimetype": "text/x-python",
   "name": "python",
   "nbconvert_exporter": "python",
   "pygments_lexer": "ipython3",
   "version": "3.12.7"
  }
 },
 "nbformat": 4,
 "nbformat_minor": 5
}
